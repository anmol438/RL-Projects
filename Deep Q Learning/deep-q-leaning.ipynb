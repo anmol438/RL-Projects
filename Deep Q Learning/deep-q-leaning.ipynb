{
 "cells": [
  {
   "cell_type": "markdown",
   "metadata": {},
   "source": [
    "Imports"
   ]
  },
  {
   "cell_type": "code",
   "execution_count": null,
   "metadata": {},
   "outputs": [],
   "source": [
    "import gymnasium as gym\n",
    "import numpy as np\n",
    "import pandas as pd\n",
    "import tensorflow as tf\n",
    "\n",
    "from collections import deque\n",
    "from tensorflow.keras.models import Sequential, save_model\n",
    "from tensorflow.keras.layers import Dense\n",
    "from tensorflow.keras.optimizers import Adam\n",
    "from tensorflow.keras.losses import mean_squared_error"
   ]
  },
  {
   "cell_type": "markdown",
   "metadata": {},
   "source": [
    "Environment"
   ]
  },
  {
   "cell_type": "code",
   "execution_count": null,
   "metadata": {},
   "outputs": [],
   "source": [
    "env = gym.make(\"CartPole-v1\")"
   ]
  },
  {
   "cell_type": "markdown",
   "metadata": {},
   "source": [
    "Deep Q Learning Algo"
   ]
  },
  {
   "cell_type": "markdown",
   "metadata": {},
   "source": [
    "- Train the model at each episode on a batch size of past experiences (replay buffer)\n",
    "- At each training step, take few random past experiences from replay buffer (states, actions, reward, next_states, dones).\n",
    "- It is convenient to pass only states rather than states-actions pair to model and get states-action pair from which we can take argmax for each state for optimal action.\n",
    "- Eqn for Q_target : Q_target = r + gamma * max-over-actions (Q(next_state, actions)) -> this Q_target will be used for calculating loss with model's approximated Q value.\n",
    "- Now calculate Q_target:\n",
    "- Predict the next Q values using next states and take maximum Q value for each state. Put the values in eqn for Q_target.\n",
    "- Calculate the approx Q values by passing states to model and calculate loss and gradients. Update the model vars by applying gradients.\n",
    "\n",
    "- To take action in a environment use a epsilon-greedy-policy to both explore and exploit and perform a step in env. \n",
    "- Append these step experiences to a replay buffer so model can use them for training.\n"
   ]
  },
  {
   "cell_type": "code",
   "execution_count": null,
   "metadata": {},
   "outputs": [],
   "source": [
    "def epsilon_greedy_policy(state, epsilon):\n",
    "\n",
    "    if np.random.rand() < epsilon:\n",
    "        return np.random.randint(2) #exploring other possibilities\n",
    "    \n",
    "    Q_values = model.predict(state[None,:], verbose=0)\n",
    "    return np.argmax(Q_values[0]) # chosing actiong with max Q value"
   ]
  },
  {
   "cell_type": "code",
   "execution_count": null,
   "metadata": {},
   "outputs": [],
   "source": [
    "def get_past_experiences(batch_size):\n",
    "    ind = np.random.randint(len(replay_buffer), size=batch_size) # selecting batch_size number of past env experience\n",
    "    states, actions, next_states, rewards, terms, truncs = [\n",
    "        np.array([replay_buffer[i][j] for i in ind]) for j in range(6)]\n",
    "    \n",
    "    return states, actions, next_states, rewards, terms, truncs"
   ]
  },
  {
   "cell_type": "code",
   "execution_count": null,
   "metadata": {},
   "outputs": [],
   "source": [
    "def training_step(batch_size):\n",
    "    past_epx = get_past_experiences(batch_size)\n",
    "    states, actions, next_states, rewards, terms, truncs = past_epx\n",
    "    # calculating Q_target values for the actions selected by agent:\n",
    "    # let's calculate Q prime first\n",
    "    next_Q_values = model.predict(next_states, verbose=0) # cal Q values for next state-action pair\n",
    "    max_next_Q_values = np.max(next_Q_values, axis=1) # taking maximum over next-action for each state\n",
    "    Q_target = rewards + (1 - (terms + truncs)) * discount_factor * max_next_Q_values # there will not be next state for terminal step\n",
    "    Q_target = Q_target[:,None]\n",
    "    # create a mask from actions to filter the approximated Q values from the model to consider only taken actions\n",
    "    mask = tf.one_hot(actions, n_output)\n",
    "\n",
    "    with tf.GradientTape() as tape:\n",
    "\n",
    "        Q_values = model(states)\n",
    "        # all_Q.append(Q_values)\n",
    "        Q_values = tf.reduce_sum(Q_values*mask, axis=1, keepdims=True) # zero out the other actions and collapsing the each array to single value\n",
    "\n",
    "        loss = tf.reduce_mean(loss_fn(Q_target, Q_values))\n",
    "        losses.append(loss)\n",
    "        print(loss)\n",
    "        print(tf.reduce_mean(MeanSquaredError(Q_target, Q_values)))\n",
    "\n",
    "    gradients = tape.gradient(loss, model.trainable_variables)\n",
    "    optimizer.apply_gradients(zip(gradients, model.trainable_variables)) # gradient descent\n",
    "\n"
   ]
  },
  {
   "cell_type": "code",
   "execution_count": null,
   "metadata": {},
   "outputs": [],
   "source": [
    "def play_one_step(env, state, epsilon=0):\n",
    "    action = epsilon_greedy_policy(state, epsilon)\n",
    "    next_state, reward, term, trunc, info = env.step(action)\n",
    "\n",
    "    replay_buffer.append((state, action, next_state, reward, term, trunc))\n",
    "    \n",
    "    return next_state, reward, term, trunc, info"
   ]
  },
  {
   "cell_type": "code",
   "execution_count": null,
   "metadata": {},
   "outputs": [],
   "source": [
    "batch_size = 256\n",
    "n_episode = 2000\n",
    "n_output = env.action_space.n\n",
    "discount_factor = 0.95\n",
    "lr = 0.0005\n",
    "loss_fn = mean_squared_error\n",
    "optimizer = Adam(learning_rate=lr)\n",
    "replay_buffer = deque(maxlen=10000)\n",
    "losses = []\n",
    "ep_reward = []\n",
    "all_Q = []\n",
    "\n",
    "model = Sequential([\n",
    "    Dense(32, activation='elu', input_shape=[4]),\n",
    "    Dense(32, activation='elu'),\n",
    "    Dense(n_output)\n",
    "])\n",
    "\n",
    "for episode in range(n_episode):\n",
    "    obs = env.reset()[0]\n",
    "    curr_rew = 0\n",
    "    for step in range(250):\n",
    "        epsilon = max(1 - episode/1000 , 0.01) # gradually decreasing epsilon to 0.01 (reducing exploring)\n",
    "        obs, reward, term, trunc, info =  play_one_step(env, obs, epsilon)\n",
    "        curr_rew += reward\n",
    "        if term or trunc:\n",
    "            break\n",
    "    if episode%50==0:\n",
    "        print(f'Episode: {episode},     Reward: {curr_rew}')\n",
    "    ep_reward.append(curr_rew)\n",
    "    if episode >= 1.5*batch_size: # let the replay buffer populated with enough experiences\n",
    "        training_step(batch_size)"
   ]
  },
  {
   "cell_type": "code",
   "execution_count": null,
   "metadata": {},
   "outputs": [],
   "source": [
    "pd.DataFrame(np.array(losses)).plot()"
   ]
  },
  {
   "cell_type": "code",
   "execution_count": null,
   "metadata": {},
   "outputs": [],
   "source": [
    "pd.DataFrame(ep_reward).plot()"
   ]
  },
  {
   "cell_type": "markdown",
   "metadata": {},
   "source": [
    "You can see catastophic forgetting"
   ]
  },
  {
   "cell_type": "code",
   "execution_count": null,
   "metadata": {},
   "outputs": [],
   "source": [
    "save_model(model, 'deep-q-learning-model.h5')"
   ]
  },
  {
   "cell_type": "code",
   "execution_count": null,
   "metadata": {},
   "outputs": [],
   "source": [
    "env.close()"
   ]
  },
  {
   "cell_type": "markdown",
   "metadata": {},
   "source": [
    "Limitation -> Model is unstable and highly sensitive"
   ]
  }
 ],
 "metadata": {
  "kernelspec": {
   "display_name": "tf",
   "language": "python",
   "name": "python3"
  },
  "language_info": {
   "codemirror_mode": {
    "name": "ipython",
    "version": 3
   },
   "file_extension": ".py",
   "mimetype": "text/x-python",
   "name": "python",
   "nbconvert_exporter": "python",
   "pygments_lexer": "ipython3",
   "version": "3.9.19"
  }
 },
 "nbformat": 4,
 "nbformat_minor": 2
}
