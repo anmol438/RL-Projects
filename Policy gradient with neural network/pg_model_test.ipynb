{
 "cells": [
  {
   "cell_type": "code",
   "execution_count": null,
   "metadata": {},
   "outputs": [],
   "source": [
    "import gymnasium as gym\n",
    "import time\n",
    "\n",
    "from tensorflow.keras.models import load_model\n",
    "\n"
   ]
  },
  {
   "cell_type": "code",
   "execution_count": null,
   "metadata": {},
   "outputs": [],
   "source": [
    "model = load_model('./pg_with_neural_network.h5')"
   ]
  },
  {
   "cell_type": "code",
   "execution_count": 8,
   "metadata": {},
   "outputs": [
    {
     "name": "stderr",
     "output_type": "stream",
     "text": [
      "C:\\Users\\iitka\\AppData\\Local\\Temp\\ipykernel_24424\\2706183623.py:9: DeprecationWarning: Conversion of an array with ndim > 0 to a scalar is deprecated, and will error in future. Ensure you extract a single element from your array before performing this operation. (Deprecated NumPy 1.25.)\n",
      "  action = int(0.5 > pred_left_prob)\n"
     ]
    },
    {
     "name": "stdout",
     "output_type": "stream",
     "text": [
      "breaking\n",
      "500.0\n"
     ]
    }
   ],
   "source": [
    "env = gym.make(\"CartPole-v1\", render_mode='human')\n",
    "obs = env.reset()[0]\n",
    "\n",
    "steps = 1000\n",
    "tot_rew = 0\n",
    "for step in range(steps):\n",
    "\n",
    "    pred_left_prob = model.predict(obs[None,:], verbose=0) \n",
    "    action = int(0.5 > pred_left_prob)\n",
    "    obs, reward, term, trunc, info = env.step(action)\n",
    "    tot_rew += reward\n",
    "    if term or trunc:\n",
    "        env.reset()\n",
    "        print(\"breaking\")\n",
    "        break\n",
    "    # time.sleep(0.1)\n",
    "\n",
    "print(tot_rew)"
   ]
  },
  {
   "cell_type": "code",
   "execution_count": 9,
   "metadata": {},
   "outputs": [],
   "source": [
    "env.close()"
   ]
  }
 ],
 "metadata": {
  "kernelspec": {
   "display_name": "tf",
   "language": "python",
   "name": "python3"
  },
  "language_info": {
   "codemirror_mode": {
    "name": "ipython",
    "version": 3
   },
   "file_extension": ".py",
   "mimetype": "text/x-python",
   "name": "python",
   "nbconvert_exporter": "python",
   "pygments_lexer": "ipython3",
   "version": "3.9.19"
  }
 },
 "nbformat": 4,
 "nbformat_minor": 2
}
